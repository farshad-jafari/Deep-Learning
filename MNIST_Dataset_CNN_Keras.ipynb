{
 "cells": [
  {
   "cell_type": "code",
   "execution_count": 1,
   "metadata": {},
   "outputs": [],
   "source": [
    "import keras\n",
    "from keras import layers\n",
    "from keras.models import Sequential\n",
    "from keras.layers import Dense, Dropout, Activation\n",
    "import numpy as np\n",
    "import matplotlib.pyplot as plt\n",
    "import pandas as pd\n",
    "%matplotlib inline\n",
    "\n"
   ]
  },
  {
   "cell_type": "code",
   "execution_count": 2,
   "metadata": {},
   "outputs": [],
   "source": [
    "mnist_train = pd.read_csv('C:/Users/shadm/Desktop/mnist_train.csv')\n",
    "mnist_test = pd.read_csv('C:/Users/shadm/Desktop/mnist_test.csv')"
   ]
  },
  {
   "cell_type": "code",
   "execution_count": 3,
   "metadata": {},
   "outputs": [],
   "source": [
    "Data_train = mnist_train.to_numpy()\n",
    "Data_test = mnist_test.to_numpy()\n",
    "\n",
    "y_train = Data_train[:, 0]\n",
    "x_train = Data_train[:, 1:]\n",
    "\n",
    "x_test = Data_test[:, 1:]\n",
    "y_test = Data_test[:, 0]"
   ]
  },
  {
   "cell_type": "code",
   "execution_count": 4,
   "metadata": {},
   "outputs": [],
   "source": [
    "#x_train = np.array(x_train)\n",
    "y_train = keras.utils.to_categorical(y_train, num_classes=10)\n",
    "#x_test = np.array(x_test)\n",
    "y_test = keras.utils.to_categorical(y_test, num_classes=10)\n"
   ]
  },
  {
   "cell_type": "code",
   "execution_count": 6,
   "metadata": {},
   "outputs": [],
   "source": [
    "\n",
    "\n",
    "x_train = x_train.astype('float32')\n",
    "x_test = x_test.astype('float32')\n",
    "x_train /= 255\n",
    "x_test /= 255\n",
    "\n",
    "\n",
    "x_train = x_train.reshape(-1,28,28,1)\n",
    "x_test = x_test.reshape(-1,28,28,1)\n",
    "\n",
    "x_val = x_train[48000:60000]\n",
    "x_train = x_train[:48000]\n",
    "y_val = y_train[48000:60000]\n",
    "y_train = y_train[:48000]\n"
   ]
  },
  {
   "cell_type": "code",
   "execution_count": 7,
   "metadata": {},
   "outputs": [],
   "source": [
    "model = Sequential()\n",
    "model.add(layers.Conv2D(32, (3, 3), activation='relu',\n",
    "                        input_shape=(28, 28, 1)))\n",
    "model.add(layers.MaxPooling2D((2, 2)))\n",
    "model.add(layers.Conv2D(64, (3, 3), activation='relu'))\n",
    "model.add(layers.MaxPooling2D((2, 2)))\n",
    "model.add(layers.Conv2D(64, (3, 3), activation='relu'))\n",
    "model.add(layers.Flatten())\n",
    "model.add(layers.Dense(64, activation='relu'))\n",
    "model.add(Dropout(0.5))\n",
    "model.add(layers.Dense(10, activation='softmax'))"
   ]
  },
  {
   "cell_type": "code",
   "execution_count": 8,
   "metadata": {},
   "outputs": [
    {
     "name": "stdout",
     "output_type": "stream",
     "text": [
      "Model: \"sequential\"\n",
      "_________________________________________________________________\n",
      "Layer (type)                 Output Shape              Param #   \n",
      "=================================================================\n",
      "conv2d (Conv2D)              (None, 26, 26, 32)        320       \n",
      "_________________________________________________________________\n",
      "max_pooling2d (MaxPooling2D) (None, 13, 13, 32)        0         \n",
      "_________________________________________________________________\n",
      "conv2d_1 (Conv2D)            (None, 11, 11, 64)        18496     \n",
      "_________________________________________________________________\n",
      "max_pooling2d_1 (MaxPooling2 (None, 5, 5, 64)          0         \n",
      "_________________________________________________________________\n",
      "conv2d_2 (Conv2D)            (None, 3, 3, 64)          36928     \n",
      "_________________________________________________________________\n",
      "flatten (Flatten)            (None, 576)               0         \n",
      "_________________________________________________________________\n",
      "dense (Dense)                (None, 64)                36928     \n",
      "_________________________________________________________________\n",
      "dropout (Dropout)            (None, 64)                0         \n",
      "_________________________________________________________________\n",
      "dense_1 (Dense)              (None, 10)                650       \n",
      "=================================================================\n",
      "Total params: 93,322\n",
      "Trainable params: 93,322\n",
      "Non-trainable params: 0\n",
      "_________________________________________________________________\n"
     ]
    }
   ],
   "source": [
    "model.summary()"
   ]
  },
  {
   "cell_type": "code",
   "execution_count": 9,
   "metadata": {},
   "outputs": [
    {
     "name": "stdout",
     "output_type": "stream",
     "text": [
      "Epoch 1/50\n",
      "188/188 [==============================] - 27s 142ms/step - loss: 0.5830 - accuracy: 0.8179 - val_loss: 0.1081 - val_accuracy: 0.9694\n",
      "Epoch 2/50\n",
      "188/188 [==============================] - 27s 142ms/step - loss: 0.1649 - accuracy: 0.9517 - val_loss: 0.0676 - val_accuracy: 0.9803\n",
      "Epoch 3/50\n",
      "188/188 [==============================] - 28s 151ms/step - loss: 0.1155 - accuracy: 0.9666 - val_loss: 0.0536 - val_accuracy: 0.9836\n",
      "Epoch 4/50\n",
      "188/188 [==============================] - 28s 151ms/step - loss: 0.0923 - accuracy: 0.9735 - val_loss: 0.0488 - val_accuracy: 0.9855\n",
      "Epoch 5/50\n",
      "188/188 [==============================] - 29s 152ms/step - loss: 0.0744 - accuracy: 0.9792 - val_loss: 0.0452 - val_accuracy: 0.9870\n",
      "Epoch 6/50\n",
      "188/188 [==============================] - 29s 152ms/step - loss: 0.0662 - accuracy: 0.9807 - val_loss: 0.0438 - val_accuracy: 0.9869\n",
      "Epoch 7/50\n",
      "188/188 [==============================] - 29s 152ms/step - loss: 0.0578 - accuracy: 0.9833 - val_loss: 0.0365 - val_accuracy: 0.9888\n",
      "Epoch 8/50\n",
      "188/188 [==============================] - 28s 151ms/step - loss: 0.0494 - accuracy: 0.9853 - val_loss: 0.0406 - val_accuracy: 0.9889\n",
      "Epoch 9/50\n",
      "188/188 [==============================] - 29s 153ms/step - loss: 0.0445 - accuracy: 0.9871 - val_loss: 0.0363 - val_accuracy: 0.9903\n",
      "Epoch 10/50\n",
      "188/188 [==============================] - 29s 154ms/step - loss: 0.0409 - accuracy: 0.9874 - val_loss: 0.0379 - val_accuracy: 0.9893\n",
      "Epoch 11/50\n",
      "188/188 [==============================] - 29s 153ms/step - loss: 0.0349 - accuracy: 0.9896 - val_loss: 0.0408 - val_accuracy: 0.9896\n",
      "Epoch 12/50\n",
      "188/188 [==============================] - 29s 154ms/step - loss: 0.0313 - accuracy: 0.9903 - val_loss: 0.0358 - val_accuracy: 0.9908\n",
      "Epoch 13/50\n",
      "188/188 [==============================] - 29s 155ms/step - loss: 0.0319 - accuracy: 0.9902 - val_loss: 0.0390 - val_accuracy: 0.9904\n",
      "Epoch 14/50\n",
      "188/188 [==============================] - 29s 155ms/step - loss: 0.0293 - accuracy: 0.9907 - val_loss: 0.0411 - val_accuracy: 0.9901\n",
      "Epoch 15/50\n",
      "188/188 [==============================] - 29s 155ms/step - loss: 0.0270 - accuracy: 0.9917 - val_loss: 0.0383 - val_accuracy: 0.9905\n",
      "Epoch 16/50\n",
      "188/188 [==============================] - 35s 184ms/step - loss: 0.0233 - accuracy: 0.9924 - val_loss: 0.0376 - val_accuracy: 0.9902\n",
      "Epoch 17/50\n",
      "188/188 [==============================] - 31s 167ms/step - loss: 0.0237 - accuracy: 0.9928 - val_loss: 0.0364 - val_accuracy: 0.9911\n",
      "Epoch 18/50\n",
      "188/188 [==============================] - 30s 162ms/step - loss: 0.0214 - accuracy: 0.9931 - val_loss: 0.0333 - val_accuracy: 0.9916\n",
      "Epoch 19/50\n",
      "188/188 [==============================] - 28s 151ms/step - loss: 0.0194 - accuracy: 0.9935 - val_loss: 0.0352 - val_accuracy: 0.9917\n",
      "Epoch 20/50\n",
      "188/188 [==============================] - 29s 152ms/step - loss: 0.0184 - accuracy: 0.9940 - val_loss: 0.0349 - val_accuracy: 0.9916\n",
      "Epoch 21/50\n",
      "188/188 [==============================] - 29s 153ms/step - loss: 0.0186 - accuracy: 0.9942 - val_loss: 0.0403 - val_accuracy: 0.9909\n",
      "Epoch 22/50\n",
      "188/188 [==============================] - 29s 152ms/step - loss: 0.0166 - accuracy: 0.9948 - val_loss: 0.0406 - val_accuracy: 0.9911\n",
      "Epoch 23/50\n",
      "188/188 [==============================] - 29s 153ms/step - loss: 0.0150 - accuracy: 0.9951 - val_loss: 0.0421 - val_accuracy: 0.9905\n",
      "Epoch 24/50\n",
      "188/188 [==============================] - 29s 153ms/step - loss: 0.0153 - accuracy: 0.9948 - val_loss: 0.0406 - val_accuracy: 0.9914\n",
      "Epoch 25/50\n",
      "188/188 [==============================] - 29s 155ms/step - loss: 0.0132 - accuracy: 0.9957 - val_loss: 0.0400 - val_accuracy: 0.9909\n",
      "Epoch 26/50\n",
      "188/188 [==============================] - 29s 153ms/step - loss: 0.0143 - accuracy: 0.9953 - val_loss: 0.0367 - val_accuracy: 0.9918\n",
      "Epoch 27/50\n",
      "188/188 [==============================] - 29s 154ms/step - loss: 0.0118 - accuracy: 0.9960 - val_loss: 0.0431 - val_accuracy: 0.9916\n",
      "Epoch 28/50\n",
      "188/188 [==============================] - 29s 153ms/step - loss: 0.0133 - accuracy: 0.9956 - val_loss: 0.0447 - val_accuracy: 0.9918\n",
      "Epoch 29/50\n",
      "188/188 [==============================] - 29s 152ms/step - loss: 0.0113 - accuracy: 0.9963 - val_loss: 0.0423 - val_accuracy: 0.9922\n",
      "Epoch 30/50\n",
      "188/188 [==============================] - 28s 151ms/step - loss: 0.0096 - accuracy: 0.9968 - val_loss: 0.0434 - val_accuracy: 0.9923\n",
      "Epoch 31/50\n",
      "188/188 [==============================] - 29s 153ms/step - loss: 0.0105 - accuracy: 0.9965 - val_loss: 0.0453 - val_accuracy: 0.9922\n",
      "Epoch 32/50\n",
      "188/188 [==============================] - 28s 151ms/step - loss: 0.0108 - accuracy: 0.9964 - val_loss: 0.0495 - val_accuracy: 0.9908\n",
      "Epoch 33/50\n",
      "188/188 [==============================] - 29s 153ms/step - loss: 0.0108 - accuracy: 0.9966 - val_loss: 0.0399 - val_accuracy: 0.9925\n",
      "Epoch 34/50\n",
      "188/188 [==============================] - 29s 153ms/step - loss: 0.0088 - accuracy: 0.9972 - val_loss: 0.0420 - val_accuracy: 0.9924\n",
      "Epoch 35/50\n",
      "188/188 [==============================] - 29s 155ms/step - loss: 0.0103 - accuracy: 0.9965 - val_loss: 0.0431 - val_accuracy: 0.9918\n",
      "Epoch 36/50\n",
      "188/188 [==============================] - 29s 155ms/step - loss: 0.0097 - accuracy: 0.9966 - val_loss: 0.0379 - val_accuracy: 0.9927\n",
      "Epoch 37/50\n",
      "188/188 [==============================] - 30s 160ms/step - loss: 0.0097 - accuracy: 0.9966 - val_loss: 0.0429 - val_accuracy: 0.9927\n",
      "Epoch 38/50\n",
      "188/188 [==============================] - 34s 182ms/step - loss: 0.0087 - accuracy: 0.9969 - val_loss: 0.0464 - val_accuracy: 0.9924\n",
      "Epoch 39/50\n",
      "188/188 [==============================] - 36s 193ms/step - loss: 0.0079 - accuracy: 0.9971 - val_loss: 0.0491 - val_accuracy: 0.9918\n",
      "Epoch 40/50\n",
      "188/188 [==============================] - 37s 197ms/step - loss: 0.0087 - accuracy: 0.9969 - val_loss: 0.0510 - val_accuracy: 0.9921\n",
      "Epoch 41/50\n",
      "188/188 [==============================] - 37s 199ms/step - loss: 0.0072 - accuracy: 0.9975 - val_loss: 0.0524 - val_accuracy: 0.9927\n",
      "Epoch 42/50\n",
      "188/188 [==============================] - 31s 166ms/step - loss: 0.0073 - accuracy: 0.9975 - val_loss: 0.0579 - val_accuracy: 0.9909\n",
      "Epoch 43/50\n",
      "188/188 [==============================] - 29s 154ms/step - loss: 0.0072 - accuracy: 0.9976 - val_loss: 0.0564 - val_accuracy: 0.9914\n",
      "Epoch 44/50\n",
      "188/188 [==============================] - 31s 166ms/step - loss: 0.0062 - accuracy: 0.9979 - val_loss: 0.0516 - val_accuracy: 0.9919\n",
      "Epoch 45/50\n",
      "188/188 [==============================] - 35s 184ms/step - loss: 0.0074 - accuracy: 0.9977 - val_loss: 0.0485 - val_accuracy: 0.9925\n",
      "Epoch 46/50\n",
      "188/188 [==============================] - 29s 153ms/step - loss: 0.0072 - accuracy: 0.9978 - val_loss: 0.0532 - val_accuracy: 0.9918\n",
      "Epoch 47/50\n",
      "188/188 [==============================] - 32s 172ms/step - loss: 0.0076 - accuracy: 0.9972 - val_loss: 0.0612 - val_accuracy: 0.9915\n",
      "Epoch 48/50\n",
      "188/188 [==============================] - 30s 162ms/step - loss: 0.0064 - accuracy: 0.9979 - val_loss: 0.0536 - val_accuracy: 0.9918\n",
      "Epoch 49/50\n",
      "188/188 [==============================] - 31s 167ms/step - loss: 0.0060 - accuracy: 0.9976 - val_loss: 0.0534 - val_accuracy: 0.9920\n",
      "Epoch 50/50\n",
      "188/188 [==============================] - 34s 178ms/step - loss: 0.0059 - accuracy: 0.9979 - val_loss: 0.0508 - val_accuracy: 0.9921\n"
     ]
    }
   ],
   "source": [
    "model.compile(loss='categorical_crossentropy',\n",
    "              optimizer='adam',\n",
    "              metrics=['accuracy'])\n",
    "history = model.fit(x_train, y_train,\n",
    "          epochs=50, batch_size=256, validation_data = (x_val, y_val))\n"
   ]
  },
  {
   "cell_type": "code",
   "execution_count": 14,
   "metadata": {},
   "outputs": [
    {
     "data": {
      "image/png": "[encoded data removed]",
      "text/plain": [
       "<Figure size 720x360 with 1 Axes>"
      ]
     },
     "metadata": {
      "needs_background": "light"
     },
     "output_type": "display_data"
    },
    {
     "data": {
      "image/png": "[encoded data removed]",
      "text/plain": [
       "<Figure size 720x360 with 1 Axes>"
      ]
     },
     "metadata": {
      "needs_background": "light"
     },
     "output_type": "display_data"
    }
   ],
   "source": [
    "acc = history.history['accuracy']\n",
    "val_acc = history.history['val_accuracy']\n",
    "loss = history.history['loss']\n",
    "val_loss = history.history['val_loss']\n",
    "\n",
    "epochs = range(len(acc))\n",
    "\n",
    "plt.figure(figsize=(10, 5))\n",
    "\n",
    "plt.plot(epochs, acc, 'y.-', label='Training acc')\n",
    "plt.plot(epochs, val_acc, 'g.-', label='Validation loss')\n",
    "plt.title(\"Training and Validation accuracy\")\n",
    "plt.legend()\n",
    "\n",
    "plt.figure(figsize=(10, 5))\n",
    "\n",
    "plt.plot(epochs, loss, 'y.-', label='Training acc')\n",
    "plt.plot(epochs, val_loss, 'g.-', label='Validation loss')\n",
    "plt.title(\"Training and Validation loss\")\n",
    "plt.legend()\n",
    "\n",
    "plt.show()"
   ]
  },
  {
   "cell_type": "code",
   "execution_count": null,
   "metadata": {},
   "outputs": [],
   "source": []
  }
 ],
 "metadata": {
  "kernelspec": {
   "display_name": "Python 3",
   "language": "python",
   "name": "python3"
  },
  "language_info": {
   "codemirror_mode": {
    "name": "ipython",
    "version": 3
   },
   "file_extension": ".py",
   "mimetype": "text/x-python",
   "name": "python",
   "nbconvert_exporter": "python",
   "pygments_lexer": "ipython3",
   "version": "3.7.6"
  }
 },
 "nbformat": 4,
 "nbformat_minor": 4
}
